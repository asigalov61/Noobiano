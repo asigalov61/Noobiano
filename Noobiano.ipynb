{
  "nbformat": 4,
  "nbformat_minor": 0,
  "metadata": {
    "kernelspec": {
      "display_name": "Python 3",
      "language": "python",
      "name": "python3"
    },
    "language_info": {
      "codemirror_mode": {
        "name": "ipython",
        "version": 3
      },
      "file_extension": ".py",
      "mimetype": "text/x-python",
      "name": "python",
      "nbconvert_exporter": "python",
      "pygments_lexer": "ipython3",
      "version": "3.6.5"
    },
    "colab": {
      "name": "Noobiano.ipynb",
      "provenance": [],
      "private_outputs": true,
      "collapsed_sections": [],
      "include_colab_link": true
    },
    "accelerator": "GPU"
  },
  "cells": [
    {
      "cell_type": "markdown",
      "metadata": {
        "id": "view-in-github",
        "colab_type": "text"
      },
      "source": [
        "<a href=\"https://colab.research.google.com/github/asigalov61/Noobiano/blob/master/Noobiano.ipynb\" target=\"_parent\"><img src=\"https://colab.research.google.com/assets/colab-badge.svg\" alt=\"Open In Colab\"/></a>"
      ]
    },
    {
      "cell_type": "markdown",
      "metadata": {
        "id": "P0hyLdoWR_YK"
      },
      "source": [
        "#Noobiano 2 (Ver. 4.0): Melody RNN\n",
        "\n",
        "***\n",
        "\n",
        "## A Beginner Introduction to Music Generation with Artificial Intelligence (Neural Networks)\n",
        "\n",
        "***\n",
        "\n",
        "## Huge thanks and all credit for this beautiful colab go out to Charles Martin https://github.com/cpmpercussion/creative-prediction\n",
        "\n",
        "***\n",
        "\n",
        "- Music is a complex phenomenon with many representations (e.g., digital audio, musical scores, lead sheets)\n",
        "- A simple representation of music is as a sequence of notes and rests:\n",
        "    - (equivalent to one line of melody)\n",
        "- This can be one-hot encoded and applied to a CharRNN!\n",
        "\n",
        "***\n",
        "\n",
        "### A simple music representation\n",
        "\n",
        "- Our musical representation is going be a sequence of integers between 0 and 129.\n",
        "- Each integer represents a musical instruction lasting for one sixteenth note (one semiquaver) of duration.\n",
        "    - This is a typical level of detail for electronic music sequencers.\n",
        "- MIDI is a standard way of encoding instructions for synthesised instruments and can represent whole musical scores.\n",
        "    - Standard MIDI allows 128 pitches (there are only 88 on a piano keyboard) where number 60 is 'middle C'.\n",
        "\n",
        "***\n",
        "    \n",
        "#### Melody-RNN Encoding\n",
        "\n",
        "- 0-127 play a note at that MIDI note number. (`MELODY_NOTE_ON`)\n",
        "- 128 stop whatever note was playing. (`MELODY_NOTE_OFF`)\n",
        "- 129 do nothing. (`MELODY_NO_EVENT`)\n",
        "    \n",
        "This encoding should allow long notes (a note-on followed by one or more no-change events, then a note-off), and rests (a note-off followed by one or more no-change events).\n",
        "\n",
        "Here's a standard melody converted into this format:\n",
        "\n",
        "![](https://github.com/cpmpercussion/creative-prediction/blob/master/notebooks/figures/wm_score_example.png?raw=1)"
      ]
    },
    {
      "cell_type": "markdown",
      "metadata": {
        "id": "Cvcubhb7R_YL"
      },
      "source": [
        "### Convert between MIDI files and numpy arrays in melody format\n",
        "\n",
        "- Music is more complex than text (e.g., more than one note might happen at once). \n",
        "- We use the Music21 library to read MIDI music filescand then convert to our Melody-RNN format.\n",
        "- The functions below turn a Music21 \"stream\" (of notes) into a numpy array of 8-bit integers.\n",
        "- All complex rhythms are simplified to sixteenth note versions.\n",
        "- Chords are simplified to the highest note.\n",
        "\n"
      ]
    },
    {
      "cell_type": "markdown",
      "metadata": {
        "id": "sdB3HjwBMlHW"
      },
      "source": [
        "#Setup the environment and install/import all dependencies"
      ]
    },
    {
      "cell_type": "code",
      "metadata": {
        "id": "PG4aq3J4MD8M",
        "cellView": "form"
      },
      "source": [
        "#@title Install all dependencies\n",
        "!pip install pyFluidSynth\n",
        "!apt install fluidsynth #Pip does not work for some reason. Only apt works\n",
        "!pip install midi2audio\n",
        "!pip install pretty_midi\n",
        "!pip install pypianoroll\n",
        "!pip install mir_eval\n",
        "!pip install keras_self_attention\n",
        "!git clone https://github.com/asigalov61/arc-diagrams"
      ],
      "execution_count": null,
      "outputs": []
    },
    {
      "cell_type": "code",
      "metadata": {
        "id": "EyJcPxbiR_YM",
        "cellView": "form"
      },
      "source": [
        "#@title Define all functions, variables, and import all modules.\n",
        "output_instrument = \"Piano\"\n",
        "max_number_of_silent_sequential_notes = 4\n",
        "\n",
        "\n",
        "from midi2audio import FluidSynth\n",
        "from google.colab import output\n",
        "from IPython.display import display, Javascript, HTML, Audio\n",
        "\n",
        "\n",
        "# Imports\n",
        "from music21 import converter, instrument, note, chord, stream, midi, instrument\n",
        "import glob\n",
        "import time\n",
        "import numpy as np\n",
        "import keras.utils as utils\n",
        "import pandas as pd\n",
        "import tensorflow as tf\n",
        "import os\n",
        "\n",
        "\n",
        "\n",
        "\n",
        "\n",
        "# Melody-RNN Format is a sequence of 8-bit integers indicating the following:\n",
        "# MELODY_NOTE_ON = [0, 127] # (note on at that MIDI pitch)\n",
        "MELODY_NOTE_OFF = 128 # (stop playing all previous notes)\n",
        "MELODY_NO_EVENT = 129 # (no change from previous event)\n",
        "# Each element in the sequence lasts for one sixteenth note.\n",
        "# This can encode monophonic music only.\n",
        "\n",
        "def streamToNoteArray(stream):\n",
        "    \"\"\"\n",
        "    Convert a Music21 sequence to a numpy array of int8s into Melody-RNN format:\n",
        "        0-127 - note on at specified pitch\n",
        "        128   - note off\n",
        "        129   - no event\n",
        "    \"\"\"\n",
        "    # Part one, extract from stream\n",
        "    total_length = np.int(np.round(stream.flat.highestTime / 0.25)) # in semiquavers\n",
        "    stream_list = []\n",
        "    for element in stream.flat:\n",
        "        if isinstance(element, note.Note):\n",
        "            stream_list.append([np.round(element.offset / 0.25), np.round(element.quarterLength / 0.25), element.pitch.midi])\n",
        "        elif isinstance(element, chord.Chord):\n",
        "            stream_list.append([np.round(element.offset / 0.25), np.round(element.quarterLength / 0.25), element.sortAscending().pitches[-1].midi])\n",
        "    np_stream_list = np.array(stream_list, dtype=np.int)\n",
        "    df = pd.DataFrame({'pos': np_stream_list.T[0], 'dur': np_stream_list.T[1], 'pitch': np_stream_list.T[2]})\n",
        "    df = df.sort_values(['pos','pitch'], ascending=[True, False]) # sort the dataframe properly\n",
        "    df = df.drop_duplicates(subset=['pos']) # drop duplicate values\n",
        "    # part 2, convert into a sequence of note events\n",
        "    output = np.zeros(total_length+1, dtype=np.int16) + np.int16(MELODY_NO_EVENT)  # set array full of no events by default.\n",
        "    # Fill in the output list\n",
        "    for i in range(total_length):\n",
        "        if not df[df.pos==i].empty:\n",
        "          try:\n",
        "            n = df[df.pos==i].iloc[0] # pick the highest pitch at each semiquaver\n",
        "            output[i] = n.pitch # set note on\n",
        "            output[i+n.dur] = MELODY_NOTE_OFF\n",
        "          except:\n",
        "              print('Bad note. Skipping...')\n",
        "    return output\n",
        "\n",
        "\n",
        "def noteArrayToDataFrame(note_array):\n",
        "    \"\"\"\n",
        "    Convert a numpy array containing a Melody-RNN sequence into a dataframe.\n",
        "    \"\"\"\n",
        "    df = pd.DataFrame({\"code\": note_array})\n",
        "    df['offset'] = df.index\n",
        "    df['duration'] = df.index\n",
        "    df = df[df.code != MELODY_NO_EVENT]\n",
        "    df.duration = df.duration.diff(-1) * -1 * 0.25  # calculate durations and change to quarter note fractions\n",
        "    df = df.fillna(0.25)\n",
        "    return df[['code','duration']]\n",
        "\n",
        "z = 0\n",
        "\n",
        "def noteArrayToStream(note_array):\n",
        "    \"\"\"\n",
        "    Convert a numpy array containing a Melody-RNN sequence into a music21 stream.\n",
        "    \"\"\"\n",
        "    df = noteArrayToDataFrame(note_array)\n",
        "    melody_stream = stream.Stream()\n",
        "    if output_instrument == 'Piano': melody_stream.append(instrument.Piano())\n",
        "    if output_instrument == 'Violin': melody_stream.append(instrument.Violin())\n",
        "    if output_instrument == 'Flute': melody_stream.append(instrument.Flute())\n",
        "    if output_instrument == 'Clarinet': melody_stream.append(instrument.Clarinet())\n",
        "    for index, row in df.iterrows():\n",
        "        if row.code == MELODY_NO_EVENT:\n",
        "            if z < max_number_of_silent_sequential_notes: new_note = note.Rest() # bit of an oversimplification, doesn't produce long notes.\n",
        "            z += 1\n",
        "        elif row.code == MELODY_NOTE_OFF:\n",
        "            new_note = note.Rest()\n",
        "        else:\n",
        "            new_note = note.Note(row.code)\n",
        "        new_note.quarterLength = row.duration\n",
        "        melody_stream.append(new_note)\n",
        "    return melody_stream\n",
        "\n",
        "#wm_mid = converter.parse(\"/content/seed.mid\")\n",
        "#wm_mid.show()\n",
        "#wm_mel_rnn = streamToNoteArray(wm_mid)\n",
        "#print(wm_mel_rnn)\n",
        "#noteArrayToStream(wm_mel_rnn)\n"
      ],
      "execution_count": null,
      "outputs": []
    },
    {
      "cell_type": "markdown",
      "metadata": {
        "id": "O8zX2QEkRpJJ"
      },
      "source": [
        "## (Optional) Download pre-processed melody dataset and pre-trained model based on JBS Collection. "
      ]
    },
    {
      "cell_type": "code",
      "metadata": {
        "id": "zli0GES4Romf",
        "cellView": "form"
      },
      "source": [
        "#@title Download pre-processed dataset and pre-trained model\n",
        "!wget https://github.com/asigalov61/Noobiano/raw/master/noobiano-pre-trained-model.h5\n",
        "!wget https://github.com/asigalov61/Noobiano/raw/master/melody_training_dataset.npz"
      ],
      "execution_count": null,
      "outputs": []
    },
    {
      "cell_type": "markdown",
      "metadata": {
        "id": "KiaKciwfR_Yh"
      },
      "source": [
        "## Construct a dataset of popular melodies\n",
        "\n",
        "Open some midi files and extract the melodies as numpy note sequence arrays."
      ]
    },
    {
      "cell_type": "code",
      "metadata": {
        "id": "arCQFv3dwRgF",
        "cellView": "form"
      },
      "source": [
        "#@title Alex Piano Only Original 450 MIDIs \n",
        "%cd /content/Performance-RNN-PyTorch/dataset/midi\n",
        "!wget 'https://github.com/asigalov61/AlexMIDIDataSet/raw/master/AlexMIDIDataSet-CC-BY-NC-SA-Piano-Only.zip'\n",
        "!unzip -j 'AlexMIDIDataSet-CC-BY-NC-SA-Piano-Only.zip'"
      ],
      "execution_count": null,
      "outputs": []
    },
    {
      "cell_type": "code",
      "metadata": {
        "id": "ab0BAWsuEr-e",
        "cellView": "form"
      },
      "source": [
        "#@title Execute this cell to upload your MIDIs Data Set. Do not upload a lot and make sure that the files are not broken or have unusual configuration/settings.\n",
        "from google.colab import files\n",
        "\n",
        "uploaded = files.upload()\n",
        "\n",
        "for fn in uploaded.keys():\n",
        "  print('User uploaded file \"{name}\" with length {length} bytes'.format(\n",
        "      name=fn, length=len(uploaded[fn])))"
      ],
      "execution_count": null,
      "outputs": []
    },
    {
      "cell_type": "code",
      "metadata": {
        "scrolled": false,
        "id": "QDmrBEACR_Yi",
        "cellView": "form"
      },
      "source": [
        "#@title Parse the uploaded MIDI DataSet into a special Numpy Array of notes\n",
        "import time\n",
        "import tqdm.auto\n",
        "\n",
        "\n",
        "total_time = 0\n",
        "\n",
        "z = 0\n",
        "\n",
        "midi_files = glob.glob(\"/content/*.mid\") # this won't work, no files there.\n",
        "\n",
        "training_arrays = []\n",
        "for f in tqdm.auto.tqdm(midi_files):\n",
        "    try:\n",
        "        start = time.clock()\n",
        "        s = converter.parse(f)\n",
        "        #print(\"Parsed:\", f, \"it took\", time.clock() - start)\n",
        "        total_time += time.clock() - start\n",
        "    except:\n",
        "        continue\n",
        "    for p in s.parts:\n",
        "        start = time.clock()\n",
        "        arr = streamToNoteArray(p)\n",
        "        training_arrays.append(arr)\n",
        "        #print(\"Converted:\", f, \"it took\", time.clock() - start)\n",
        "        total_time += time.clock() - start \n",
        "    z+=1\n",
        "training_dataset = np.array(training_arrays)\n",
        "print('Writing Melody Training Dataset to file...')\n",
        "np.savez('melody_training_dataset.npz', train=training_dataset)\n",
        "print('Total number of converted files: ', z)\n",
        "print('Total conversion time is:', total_time, 'seconds, which is', total_time/60, 'minutes' )"
      ],
      "execution_count": null,
      "outputs": []
    },
    {
      "cell_type": "markdown",
      "metadata": {
        "id": "pGnNxhoER_Yk"
      },
      "source": [
        "# Load Training Data and Create RNN\n",
        "\n",
        "In the following we load in the training dataset, slice the melodies into example sequences and build our Melody RNN."
      ]
    },
    {
      "cell_type": "code",
      "metadata": {
        "id": "przr-8fpR_Yl",
        "cellView": "form"
      },
      "source": [
        "#@title Training Hyperparameters { run: \"auto\" }\n",
        "generated_sequence_length = 512 #@param {type:\"slider\", min:0, max:512, step:8}\n",
        "hidden_layer_size = 256 #@param {type:\"slider\", min:0, max:512, step:16}\n",
        "number_of_training_epochs = 200 #@param {type:\"slider\", min:0, max:200, step:1}\n",
        "training_batch_size = 1024 #@param {type:\"number\"}\n",
        "\n",
        "VOCABULARY_SIZE = 130 # known 0-127 notes + 128 note_off + 129 no_event\n",
        "SEQ_LEN = generated_sequence_length\n",
        "BATCH_SIZE = training_batch_size\n",
        "HIDDEN_UNITS = hidden_layer_size\n",
        "EPOCHS = number_of_training_epochs\n",
        "SEED = 2345  # 2345 seems to be good.\n",
        "np.random.seed(SEED)\n",
        "\n",
        "with np.load('./melody_training_dataset.npz', allow_pickle=True) as data:\n",
        "    train_set = data['train']\n",
        "\n",
        "print(\"Training melodies:\", len(train_set))"
      ],
      "execution_count": null,
      "outputs": []
    },
    {
      "cell_type": "code",
      "metadata": {
        "id": "Of7hNLYrR_Yo",
        "cellView": "form"
      },
      "source": [
        "#@title Defining additional Conversion Functions\n",
        "def slice_sequence_examples(sequence, num_steps):\n",
        "    \"\"\"Slice a sequence into redundant sequences of lenght num_steps.\"\"\"\n",
        "    xs = []\n",
        "    for i in range(len(sequence) - num_steps - 1):\n",
        "        example = sequence[i: i + num_steps]\n",
        "        xs.append(example)\n",
        "    return xs\n",
        "\n",
        "def seq_to_singleton_format(examples):\n",
        "    \"\"\"\n",
        "    Return the examples in seq to singleton format.\n",
        "    \"\"\"\n",
        "    xs = []\n",
        "    ys = []\n",
        "    for ex in examples:\n",
        "        xs.append(ex[:-1])\n",
        "        ys.append(ex[-1])\n",
        "    return (xs,ys)\n",
        "\n",
        "# Prepare training data as X and Y.\n",
        "# This slices the melodies into sequences of length SEQ_LEN+1.\n",
        "# Then, each sequence is split into an X of length SEQ_LEN and a y of length 1.\n",
        "\n",
        "# Slice the sequences:\n",
        "slices = []\n",
        "for seq in train_set:\n",
        "    slices +=  slice_sequence_examples(seq, SEQ_LEN+1)\n",
        "\n",
        "# Split the sequences into Xs and ys:\n",
        "X, y = seq_to_singleton_format(slices)\n",
        "# Convert into numpy arrays.\n",
        "X = np.array(X)\n",
        "y = np.array(y)\n",
        "\n",
        "# Look at the size of the training corpus:\n",
        "print(\"Total Training Corpus:\")\n",
        "print(\"X:\", X.shape)\n",
        "print(\"y:\", y.shape)\n",
        "print()\n",
        "\n",
        "# Have a look at one example:\n",
        "print(\"Looking at one example:\")\n",
        "print(\"X:\", X[95])\n",
        "print(\"y:\", y[95])\n",
        "# Note: Music data is sparser than text, there's lots of 129s (do nothing)\n",
        "# and few examples of any particular note on.\n",
        "# As a result, it's a bit harder to train a melody-rnn."
      ],
      "execution_count": null,
      "outputs": []
    },
    {
      "cell_type": "code",
      "metadata": {
        "id": "LCMEZCe4R_Ys",
        "cellView": "form"
      },
      "source": [
        "#@title Uploaded MIDIs Statitics\n",
        "# Do some stats on the corpus.\n",
        "all_notes = np.concatenate(train_set)\n",
        "print(\"Number of notes:\")\n",
        "print(all_notes.shape)\n",
        "all_notes_df = pd.DataFrame(all_notes)\n",
        "print(\"Notes that do appear:\")\n",
        "unique, counts = np.unique(all_notes, return_counts=True)\n",
        "print(unique)\n",
        "print(\"Notes that don't appear:\")\n",
        "print(np.setdiff1d(np.arange(0,129),unique))\n",
        "\n",
        "print(\"Plot the relative occurences of each note:\")\n",
        "import matplotlib.pyplot as plt\n",
        "%matplotlib inline\n",
        "\n",
        "#plt.style.use('dark_background')\n",
        "plt.bar(unique, counts)\n",
        "plt.yscale('log')\n",
        "plt.xlabel('melody RNN value')\n",
        "plt.ylabel('occurences (log scale)')"
      ],
      "execution_count": null,
      "outputs": []
    },
    {
      "cell_type": "markdown",
      "metadata": {
        "id": "CPsb2C_MR_Yv"
      },
      "source": [
        "# Define the Training RNN\n",
        "\n",
        "- The training RNN will be more complex than in the text examples.\n",
        "- Using 3 layers of LSTM 256 LSTM cells each.\n",
        "- Using an Embedding layer on the input (saves some effort in creating one-hot examples)\n",
        "- Using sparse categorical cross entropy for loss (so that ys don't have to be one-hot)"
      ]
    },
    {
      "cell_type": "code",
      "metadata": {
        "id": "mle7bqvVR_Yw",
        "cellView": "form"
      },
      "source": [
        "#@title Import needed modules and build the model\n",
        "import keras\n",
        "from keras.models import Sequential\n",
        "from keras.layers import Dense, Activation\n",
        "from keras.layers import LSTM, Dropout, Bidirectional, Flatten\n",
        "from keras.layers.embeddings import Embedding\n",
        "from keras.optimizers import RMSprop\n",
        "from keras.utils.data_utils import get_file\n",
        "from keras.models import load_model\n",
        "from keras_self_attention import SeqSelfAttention\n",
        "# build the model: 3-layer LSTM network.\n",
        "# Using Embedding layer and sparse_categorical_crossentropy loss function \n",
        "# to save some effort in preparing data.\n",
        "print('Building model...')\n",
        "model_train = Sequential()\n",
        "model_train.add(Embedding(VOCABULARY_SIZE, HIDDEN_UNITS, input_length=SEQ_LEN))\n",
        "\n",
        "# LSTM part (you can easily add or remove layers below)\n",
        "#model_train.add(LSTM(HIDDEN_UNITS, return_sequences=True))\n",
        "#model_train.add(Dropout(0.3))\n",
        "#model_train.add(LSTM(HIDDEN_UNITS, return_sequences=True))\n",
        "#model_train.add(Dropout(0.3))\n",
        "model_train.add(LSTM(HIDDEN_UNITS, return_sequences=True))\n",
        "model_train.add(Dropout(0.3))\n",
        "model_train.add(LSTM(HIDDEN_UNITS, return_sequences=True))\n",
        "model_train.add(Dropout(0.3))\n",
        "model_train.add(LSTM(HIDDEN_UNITS))\n",
        "model_train.add(Dropout(0.3))\n",
        "model_train.add(Flatten())\n",
        "# Project back to vocabulary\n",
        "model_train.add(Dense(VOCABULARY_SIZE, activation='softmax'))\n",
        "model_train.compile(loss='sparse_categorical_crossentropy', optimizer='adam', metrics=['accuracy'])\n",
        "model_train.summary()"
      ],
      "execution_count": null,
      "outputs": []
    },
    {
      "cell_type": "markdown",
      "metadata": {
        "id": "fnFHZmb-R_Yz"
      },
      "source": [
        "# Training\n",
        "\n",
        "- I trained this model on Google's Colaboratory system (free online Python machine learning environment, including GPU).\n",
        "- Good to train for lots of epochs, I tried for 100: less is possible.\n",
        "- Takes around 3 minutes per epoch on an NVidia K80 GPU = 5 hours to train.\n",
        "\n",
        "Here's the training diagram:\n",
        "\n",
        "<img src=\"https://github.com/cpmpercussion/creative-prediction/blob/master/notebooks/figures/training_melody_rnn.png?raw=1\" style=\"width: 600px;\"/>\n",
        "\n",
        "Probably could have stopped after about 50 epochs to save some time!\n",
        "\n",
        "This trained model is included in the repo, so you can go ahead and load that, or train again with your own dataset."
      ]
    },
    {
      "cell_type": "code",
      "metadata": {
        "id": "t30Z5HcaR_Y0",
        "cellView": "form"
      },
      "source": [
        "#@title Train the model (this takes time, 50 epochs min recommended) and plot the results\n",
        "save_every_number_of_steps = 100 #@param {type:\"slider\", min:1, max:100, step:1}\n",
        "save_only_best_checkpoints = True #@param {type:\"boolean\"}\n",
        "\n",
        "\n",
        "from keras.callbacks import ModelCheckpoint\n",
        "import matplotlib.pyplot as plt\n",
        "checkpoint = ModelCheckpoint(\n",
        "        'noobiano-pre-trained-model.h5',\n",
        "        save_freq=save_every_number_of_steps, #Every # epochs\n",
        "        monitor='loss',\n",
        "        verbose=1,\n",
        "        save_best_only=save_only_best_checkpoints,\n",
        "        mode='min'\n",
        "    )\n",
        "history = model_train.fit(X, y, validation_split=0.33, batch_size=BATCH_SIZE, epochs=EPOCHS, callbacks= [checkpoint])\n",
        "\n",
        "print(history.history.keys())\n",
        "# summarize history for accuracy\n",
        "plt.plot(history.history['accuracy'])\n",
        "plt.plot(history.history['val_accuracy'])\n",
        "plt.title('model accuracy')\n",
        "plt.ylabel('accuracy')\n",
        "plt.xlabel('epoch')\n",
        "plt.legend(['train', 'test'], loc='upper left')\n",
        "plt.show()\n",
        "# summarize history for loss\n",
        "plt.plot(history.history['loss'])\n",
        "plt.plot(history.history['val_loss'])\n",
        "plt.title('model loss')\n",
        "plt.ylabel('loss')\n",
        "plt.xlabel('epoch')\n",
        "plt.legend(['train', 'test'], loc='upper left')\n",
        "plt.show()\n",
        "model_train.save(\"noobiano-pre-trained-model.h5\")"
      ],
      "execution_count": null,
      "outputs": []
    },
    {
      "cell_type": "markdown",
      "metadata": {
        "id": "v5yZrzKmUUHd"
      },
      "source": [
        "Save the resulting trained model"
      ]
    },
    {
      "cell_type": "code",
      "metadata": {
        "id": "94-yFQxhwt4J",
        "cellView": "form"
      },
      "source": [
        "#@title SAVE\n",
        "model_train.save(\"noobiano-pre-trained-model.h5\")\n"
      ],
      "execution_count": null,
      "outputs": []
    },
    {
      "cell_type": "markdown",
      "metadata": {
        "id": "Z-_bUyyJUczg"
      },
      "source": [
        "Load the saved model (if you need to restore/reload the model)"
      ]
    },
    {
      "cell_type": "code",
      "metadata": {
        "id": "Xt7y16xPR_Y3",
        "cellView": "form"
      },
      "source": [
        "#@title LOAD\n",
        "# Load if necessary - don't need to do this.\n",
        "model_train = keras.models.load_model(\"noobiano-pre-trained-model.h5\")\n",
        "model_train.summary()"
      ],
      "execution_count": null,
      "outputs": []
    },
    {
      "cell_type": "markdown",
      "metadata": {
        "id": "Pk23VLnpR_Y6"
      },
      "source": [
        "# Decoding Model\n",
        "\n",
        "Now we build a 1-in, 1-out model for encoding. This is the same model as for training, just with a input length of 1, and LSTM statefulness turned on.\n",
        "\n",
        "- Much faster to use the network with this model!\n",
        "- The weights are loaded directly from the saved `train_model` file."
      ]
    },
    {
      "cell_type": "code",
      "metadata": {
        "id": "M9YrBo3RR_Y7",
        "cellView": "form"
      },
      "source": [
        "#@title Build a decoding model (input length 1, batch size 1, stateful)\n",
        "# Build a decoding model (input length 1, batch size 1, stateful)\n",
        "model_dec = Sequential()\n",
        "model_dec.add(Embedding(VOCABULARY_SIZE, HIDDEN_UNITS, input_length=1, batch_input_shape=(1,1)))\n",
        "# LSTM part\n",
        "model_dec.add(LSTM(HIDDEN_UNITS, stateful=True, return_sequences=True))\n",
        "model_dec.add(Dropout(0.3))\n",
        "model_dec.add(LSTM(HIDDEN_UNITS, stateful=True, return_sequences=True))\n",
        "model_dec.add(Dropout(0.3))\n",
        "model_dec.add(LSTM(HIDDEN_UNITS, stateful=True))\n",
        "model_dec.add(Dropout(0.3))\n",
        "model_dec.add(Flatten())\n",
        "# project back to vocabulary\n",
        "model_dec.add(Dense(VOCABULARY_SIZE, activation='softmax'))\n",
        "model_dec.compile(loss='sparse_categorical_crossentropy', optimizer='adam')\n",
        "model_dec.summary()\n",
        "# set weights from training model\n",
        "#model_dec.set_weights(model_train.get_weights())\n",
        "model_dec.load_weights(\"noobiano-pre-trained-model.h5\")"
      ],
      "execution_count": null,
      "outputs": []
    },
    {
      "cell_type": "markdown",
      "metadata": {
        "id": "sfYwuP2sR_Y9"
      },
      "source": [
        "# Sampling from the Model\n",
        "\n",
        "- We need define two functions for sampling:\n",
        "    - `sample`: samples from the categorical distribution output by the model, with a diversity adjustment procedure.\n",
        "    - `sample_model`: samples number of notes from the model using a one-note seed."
      ]
    },
    {
      "cell_type": "code",
      "metadata": {
        "id": "eKtqf6MqR_Y9",
        "cellView": "form"
      },
      "source": [
        "#@title Define Sampling/Generation Functions\n",
        "import tqdm.auto\n",
        "\n",
        "def sample(preds, temperature=1.0):\n",
        "    \"\"\" helper function to sample an index from a probability array\"\"\"\n",
        "    preds = np.asarray(preds).astype('float64')\n",
        "    preds = np.log(preds) / temperature\n",
        "    exp_preds = np.exp(preds)\n",
        "    preds = exp_preds / np.sum(exp_preds)\n",
        "    probas = np.random.multinomial(1, preds, 1)\n",
        "    return np.argmax(probas)\n",
        "\n",
        "## Sampling function\n",
        "\n",
        "def sample_model(seed, model_name, length=400, temperature=1.0):\n",
        "    '''Samples a musicRNN given a seed sequence.'''\n",
        "    generated = []  \n",
        "    generated.append(seed)\n",
        "    next_index = seed\n",
        "    for i in tqdm.auto.tqdm(range(length)):\n",
        "        x = np.array([next_index])\n",
        "        x = np.reshape(x,(1,1))\n",
        "        preds = model_name.predict(x, verbose=0)[0]\n",
        "        next_index = sample(preds, temperature)        \n",
        "        generated.append(next_index)\n",
        "    return np.array(generated)"
      ],
      "execution_count": null,
      "outputs": []
    },
    {
      "cell_type": "markdown",
      "metadata": {
        "id": "fSCTJUdQR_Y_"
      },
      "source": [
        "# Let's sample some music!\n",
        "\n",
        "- Generate 127 notes + the starting note 60 (middle C) - this corresponds to 8 bars of melody\n",
        "- Turn the sequence back into a music21 stream\n",
        "- Show as musial score, play it back, or save as a MIDI file!\n",
        "\n"
      ]
    },
    {
      "cell_type": "code",
      "metadata": {
        "id": "sZczLdwgR_ZA",
        "cellView": "form"
      },
      "source": [
        "#@title Generate some Music from your model :) Play with parameters below until you get what you like\n",
        "primer_length = 16 #@param {type:\"slider\", min:1, max:128, step:1}\n",
        "desired_composition_length_in_tokens = 512 #@param {type:\"slider\", min:0, max:1024, step:8}\n",
        "creativity_temperature = 0.7 #@param {type:\"slider\", min:0, max:4, step:0.1}\n",
        "max_number_of_silent_sequential_notes = 10 #@param {type:\"slider\", min:0, max:64, step:1}\n",
        "output_instrument = \"Clarinet\" #@param [\"Piano\", \"Violin\", \"Flute\", \"Clarinet\"]\n",
        "%cd /content/\n",
        "\n",
        "model_dec.reset_states() # Start with LSTM state blank\n",
        "o = sample_model(primer_length, model_dec, length=desired_composition_length_in_tokens, temperature=creativity_temperature) # generate 8 bars of melody\n",
        "\n",
        "melody_stream = noteArrayToStream(o) # turn into a music21 stream\n",
        "#melody_stream.show() # show the score.\n",
        "fp = melody_stream.write('midi', fp='output_midi.mid')\n",
        "from google.colab import files\n",
        "files.download('/content/output_midi.mid')"
      ],
      "execution_count": null,
      "outputs": []
    },
    {
      "cell_type": "markdown",
      "metadata": {
        "id": "d1wLP3ybR_ZC"
      },
      "source": [
        "#Plot and Play generated Melody :)"
      ]
    },
    {
      "cell_type": "code",
      "metadata": {
        "id": "ADccKO8bJ2eb",
        "cellView": "form"
      },
      "source": [
        "#@title Plot and Graph the Output :)\n",
        "graphs_length_inches = 18 #@param {type:\"slider\", min:0, max:20, step:1}\n",
        "notes_graph_height = 6 #@param {type:\"slider\", min:0, max:20, step:1}\n",
        "highest_displayed_pitch = 100 #@param {type:\"slider\", min:1, max:128, step:1}\n",
        "lowest_displayed_pitch = 20 #@param {type:\"slider\", min:1, max:128, step:1}\n",
        "%cd /content/\n",
        "rendered_wav_graph_height = 3\n",
        "import librosa\n",
        "import numpy as np\n",
        "import pretty_midi\n",
        "import pypianoroll\n",
        "from pypianoroll import Multitrack, Track\n",
        "import matplotlib\n",
        "import matplotlib.pyplot as plt\n",
        "#matplotlib.use('SVG')\n",
        "# For plotting\n",
        "import mir_eval.display\n",
        "import librosa.display\n",
        "%matplotlib inline\n",
        "\n",
        "\n",
        "midi_data = pretty_midi.PrettyMIDI('/content/output_midi.mid')\n",
        "\n",
        "def plot_piano_roll(pm, start_pitch, end_pitch, fs=100):\n",
        "    # Use librosa's specshow function for displaying the piano roll\n",
        "    librosa.display.specshow(pm.get_piano_roll(fs)[start_pitch:end_pitch],\n",
        "                             hop_length=1, sr=fs, x_axis='time', y_axis='cqt_note',\n",
        "                             fmin=pretty_midi.note_number_to_hz(start_pitch))\n",
        "\n",
        "\n",
        "\n",
        "roll = np.zeros([int(graphs_length_inches), 128])\n",
        "# Plot the output\n",
        "\n",
        "#track = Multitrack('/content/output_midi.mid', name='track')\n",
        "#plt.figure(figsize=[graphs_length_inches, notes_graph_height])\n",
        "#fig, ax = track.plot()\n",
        "#fig.set_size_inches(graphs_length_inches, notes_graph_height)\n",
        "plt.figure(figsize=[graphs_length_inches, notes_graph_height])\n",
        "ax2 = plot_piano_roll(midi_data, lowest_displayed_pitch, highest_displayed_pitch)\n",
        "plt.show(block=False)\n",
        "\n",
        "## Play a melody stream\n",
        "\n",
        "\n",
        "!cp /usr/share/sounds/sf2/FluidR3_GM.sf2 /content/font.sf2\n",
        "\n",
        "\n",
        "FluidSynth(\"/content/font.sf2\").midi_to_audio('output_midi.mid','output_wav.wav')\n",
        "# set the src and play\n",
        "Audio(\"output_wav.wav\")"
      ],
      "execution_count": null,
      "outputs": []
    },
    {
      "cell_type": "markdown",
      "metadata": {
        "id": "msw9kO9tW8TW"
      },
      "source": [
        "#Congratulations !!! You did it :)))"
      ]
    },
    {
      "cell_type": "code",
      "metadata": {
        "id": "-9W20wSugm55",
        "cellView": "form"
      },
      "source": [
        "#@title Reward yourself by making a nice Arc diagram from the generated output/MIDI file\n",
        "%cd '/content/arc-diagrams'\n",
        "\n",
        "from mido import MidiFile\n",
        "from arc_diagram import plot_arc_diagram\n",
        "\n",
        "midi_file = '/content/output_midi.mid'\n",
        "plot_title = \"Noobiano Output Arc Diagram\"\n",
        "\n",
        "# midi_file = 'midis/fuer_elise.mid'\n",
        "# plot_title = \"Für Elise (Beethoven)\"\n",
        "\n",
        "\n",
        "def stringify_notes(midi_file, track_number ):\n",
        "\n",
        "    mid = MidiFile(midi_file)\n",
        "    track_notes = {}\n",
        "    for i, track in enumerate(mid.tracks):\n",
        "        track_notes[i] = ''\n",
        "        for msg in track:\n",
        "            if( msg.type == 'note_on'):\n",
        "                track_notes[i] += str(msg.note) +'n'\n",
        "            if( msg.type == 'note_off'):\n",
        "                track_notes[i] += str(msg.note) +'f'\n",
        "    return track_notes[track_number] \n",
        "\n",
        "plot_arc_diagram(stringify_notes(midi_file, 0), plot_title)\n",
        "\n",
        "from google.colab import files\n",
        "files.download('/content/arc-diagrams/output.png')"
      ],
      "execution_count": null,
      "outputs": []
    },
    {
      "cell_type": "markdown",
      "metadata": {
        "id": "OjEOzZNQW_n1"
      },
      "source": [
        "You can upload or download everything to your Google Drive here (standard GD connect code)"
      ]
    },
    {
      "cell_type": "code",
      "metadata": {
        "id": "zQV-Lfv2XJHB"
      },
      "source": [
        "from google.colab import drive\n",
        "drive.mount('/content/drive')"
      ],
      "execution_count": null,
      "outputs": []
    }
  ]
}